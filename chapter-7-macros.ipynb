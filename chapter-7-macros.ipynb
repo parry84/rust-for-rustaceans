{
 "cells": [
  {
   "cell_type": "markdown",
   "metadata": {},
   "source": [
    "# Macros\n",
    "\n",
    "- compile-time parametric code generation\n",
    "- Rust Macros are fairly misuse-resistant\n",
    "\n",
    "## Declarative Macros\n",
    "\n",
    "- defined using the `macro_rules!`\n",
    "- a sort of compiler-assisted find&replace: declare the transformations\n",
    "- invoked as a function, but not all function-like macros are declarative\n",
    "\n",
    "### When to Use Them\n",
    "\n",
    "- to generate repetitive and structurally similar code\n",
    "- generics are generally more ergonomic than macros\n",
    "- if your code changes based on type, use generics; otherwise, use macros\n",
    "\n",
    "### How They Work\n",
    "\n",
    "- a macro defines the output syntax tree given an input sequence of tokens\n",
    "- the macro input must be a sequence of _token trees_ (not necessarily valid Rust)\n",
    "- declarative macros always generate valid Rust as output: this makes Rust macros resistant to misuse\n",
    "\n",
    "### How to Write Declarative Macros\n",
    "\n",
    "- consist of two main parts: matchers and transcribers\n",
    "- the order of the matchers matters\n",
    "- if it is difficult to express the pattern with a matcher, try a procedural macro instead\n",
    "- variables defined by a macro matcher are called _metavariables_\n",
    "- _hygiene_: a declarative macro can only affect variables, type, modules and functions that are explicitly passed to it (macro identifiers live in their own separate namespace)\n"
   ]
  },
  {
   "cell_type": "code",
   "execution_count": 4,
   "metadata": {
    "vscode": {
     "languageId": "rust"
    }
   },
   "outputs": [],
   "source": [
    "macro_rules! let_foo {\n",
    "  ($x:expr) => {\n",
    "    let foo = $x;\n",
    "  }\n",
    "}\n",
    "\n",
    "let foo = 1;\n",
    "// expands to let foo = 2;\n",
    "let_foo!(2);\n",
    "assert_eq!(foo, 1);"
   ]
  },
  {
   "cell_type": "markdown",
   "metadata": {},
   "source": [
    "\n",
    "- declarative macros exist in the source code only after they are declared\n",
    "\n",
    "## Procedural Macros\n",
    "\n",
    "They are procedures that generate an AST given a input AST.\n",
    "\n",
    "### Types of Procedural Macros\n",
    "\n",
    "- _Function-Like Macros_: functions that generate code to be replaced at the call site. They are _unhygienic_.\n",
    "- _Attribute Macros_: replace the item attached to an attribute\n",
    "- _Derive Macros_: similar to the previous one, but it appends code insted of replacing it\n",
    "\n",
    "### The Cost of Procedural Macros\n",
    "\n",
    "Procedural macros can significantly increase compile times because:\n",
    "\n",
    "- they bring heavy dependencies, like the `syn` crate\n",
    "- they can involve a lot of code generation\n",
    "\n",
    "### So You Think You Want a Macro\n",
    "\n",
    "- Derive Macros: to automate the generation of traits that have an obvious implementation and are supposed to be implemented for many types.\n",
    "- Function-Like Macros: when it is not feasible or to complex to write a declarative macro\n",
    "- Attribute Macros: e.g.: custom test attributes, a miniature DSL, inject middlewares, type transformation unfeasible with derive macros\n",
    "\n",
    "### How Do They Work?\n",
    "\n",
    "- they are essentially functions from `TokenStream` to `TokenStream`\n",
    "- each token has an associated span, which:\n",
    "  - mark the location of the token\n",
    "  - is useful to produce clear error messages\n",
    "  - to implement _hygiene_\n"
   ]
  }
 ],
 "metadata": {
  "kernelspec": {
   "display_name": "Rust",
   "language": "rust",
   "name": "rust"
  },
  "language_info": {
   "codemirror_mode": "rust",
   "file_extension": ".rs",
   "mimetype": "text/rust",
   "name": "Rust",
   "pygment_lexer": "rust",
   "version": ""
  },
  "orig_nbformat": 4
 },
 "nbformat": 4,
 "nbformat_minor": 2
}
