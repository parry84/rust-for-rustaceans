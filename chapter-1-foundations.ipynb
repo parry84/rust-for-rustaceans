{
 "cells": [
  {
   "cell_type": "markdown",
   "metadata": {},
   "source": [
    "# Chapter 1, Foundations\n",
    "Gives deeper, more thorough descriptions of fundamental Rust concepts like variables, memory, ownership, borrowing, and lifetimes that you’ll need to be familiar with to follow the remainder of the book\n",
    "\n",
    "## Talking About Memory\n",
    "Memory Terminology:\n",
    "- _value_: the combination of a type and an element of that type’s domain of values.\n",
    "- _representation_: property of a type that allow a value to be turned into a sequence of bytes.\n",
    "- _place_: where a value is stored.\n",
    "- _variable_: a named value slot on the stack. It is the most common place to store a value.\n",
    "- _pointer_: a value that holds the address of a region of memory, so the pointer points to a place.\n",
    "\n",
    "## Memory mental models\n",
    "- __High-level models__: Trace the lifetime of an instance of a value. Useful to validate borrow checker rules.\n",
    "- __Low-level models__: Reason explicitly about memory, like C/C++ memory models. Doesn't take compiler optimization into account.\n",
    "\n",
    "## Memory Regions\n",
    "- _stack_: used to allocate function calls (one _frame_ for each function)\n",
    "- _heap_: pool of memory not tied to a particular function call\n",
    "- _static memory_: contains binary code, string literals and certain costants\n",
    "\n",
    "## Ownership\n",
    "- all values have a single _owner_ which is responsible for deallocation. It is enforced by the borrow checker.\n",
    "- the default behavior when assigning is _move_\n",
    "- but if a type implements the `Copy` trait, the default behavior is _copy_ (bitwise memory copy). E.g.: `Box` cannot be `Copy` to avoid a _double-free_ error\n",
    "- The _drop_ order is contrived not to create _dangling references_\n",
    "\n",
    "## Shared References\n",
    "- a pointer `&T` that implements the `Copy` trait\n",
    "- points to a value that will not change while that reference lives.\n",
    "\n",
    "## Mutable References\n",
    "- the mutable reference is _exclusive_. (no other threads accessing the target value)\n",
    "- if you move the value behind the mutable reference, then you must leave another value in its place. It can be done via `std::mem::{take, replace, swap}`\n",
    "\n",
    "## Interior Mutability\n",
    "- types that allow you to to mutate a value through a shared reference.\n",
    "- rely on additional mechanisms (like atomic CPU instructions) or invariants to provide safe mutability without relying on the semantics of exclusive references.\n",
    "- allow to get a mutable reference through a shared reference (i.e.: `Mutex` and `RefCell`)\n",
    "- or allow to replace a value given only a shared reference (i.e.: `std::sync::atomic' and `std::cell::Cell`)\n",
    "\n",
    "## Lifetimes\n",
    "- not necessarly a scope (but very often so)\n",
    "- a region of code that some reference must be valid for\n",
    "- regions of code can be partially ordered with the _contains_ (outlives) relationship. \n",
    "- whenever a lifetime `'a` is used, the borrow checker checks that `'a` is still alive (see high-level models)\n",
    "- lifetime can have holes\n",
    "\n",
    "## Variance\n",
    "- lifetimes influence variance\n",
    "- if `'b` outlives `'a`, then `'b` is a subtype of `'a`."
   ]
  }
 ],
 "metadata": {
  "language_info": {
   "name": "python"
  },
  "orig_nbformat": 4
 },
 "nbformat": 4,
 "nbformat_minor": 2
}
