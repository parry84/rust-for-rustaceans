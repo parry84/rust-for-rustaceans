{
 "cells": [
  {
   "cell_type": "markdown",
   "metadata": {},
   "source": [
    "# Designing Interfaces\n",
    "Considerations for writing idiomatic interfaces in Rust (including how to name things, how to use the type system to enforce API contracts, and when to use generics versus trait objects)\n",
    "## Unsurprising\n",
    "The interface should be predictable according to the _Principle of Least Surprise_\n",
    "### Naming practices\n",
    "- things that share a name should in fact work the same way\n",
    "- e.g. `iter`, `SomethingError`\n",
    "### Common Traits for Types\n",
    "- users expect common traits to be implemented\n",
    "- user cannot implement missing traits (coherence rules)\n",
    "- implement `Debug`, `Clone`, `Default` should be implemented\n",
    "- avoid `Send`, `Sync` implementation only for good reasons\n",
    "- implement `PartialEq`, `PartialOrd`, `Hash`, `Eq`, and `Ord` when possible\n",
    "- `serde::Serialize` and `serde::Deserialize`: useful; define a `serde` feature to avoid forcing user to add the `serde` dependency\n",
    "- pay attention to `Copy`: changes the move semantics (may surprise the user)\n",
    "### Ergonomic Trait Implementations\n",
    "Blanket implementations for reference types (not automatically provided by Rust) should be provided for:\n",
    "- `&T where T: Trait`\n",
    "- `&mut T where T: Trait`\n",
    "- `Box<T> where T: Trait`\n",
    "For iterators: implement `IntoIterator` for both `&MyType` and `&mut MyType`\n",
    "### Wrapper Types\n",
    "Consider implementing:\n",
    "- `Deref`, for transparent wrapper types (like `Arc`), to allow access to the inner type with the `.` operator)\n",
    "- `AsRef` to allow use a `&WrapperType` as an `&InnerType`\n",
    "- `From<InnerType>` and `Into<InnerType>` to easily add or remove the wrapping.\n",
    "- `Borrow` to allow supply an equivalent type (`Deref` and `AsRef` are intended to be implemented more widely for anything your type can “act as.”)\n",
    "## Flexible\n",
    "- contract: a set of requirements and a set of promises.\n",
    "- avoid imposing unnecessary restrictions\n",
    "### Generic Arguments\n",
    "- use generics rather than concrete types\n",
    "- start with the argument fully generic with no bounds, and then add the needed bounds (from compiler errors)\n",
    "- for readabilty and performance, avoid generics when not actually needed\n",
    "- consider dynamic dispatching when performance not an issue\n",
    "- moving from concrete types to generics may break backward compatibility\n",
    "### Object Safety\n",
    "- implicitly part of the contract\n",
    "- should be preserved, also at the cost of ergonomicity\n",
    "- a future change will break backward compatibility\n",
    "### Borrowed vs. Owned\n",
    "- every defined function, trait, and type must choose whether it should own, or just hold a reference to data\n",
    "- if the code needs ownership of the data, it must store the owned data (should be explicit on the interface)\n",
    "- otherwise, it should operate on references (except for small types)\n",
    "- if ownership requirements are unclear, use `Cow`\n",
    "### Fallible and Blocking Destructors\n",
    "- cleanup is usually done into `Drop`\n",
    "- this don't allow to handle errors\n",
    "- for fine control, expose an explicit destructor (must be documented)\n",
    "## Obvious\n",
    "### Documentation\n",
    "- provide end-to-end examples\n",
    "- use modules to group together semantically related items\n",
    "- Use `#[doc(cfg(..))]` to highlight items that are available only under certain configurations\n",
    "- use `#[doc(alias = \"...\")]` to make types and methods discoverable under other names\n",
    "### Type System Guidance\n",
    "- use _semantic typing_, where types represent the meaning of a value, rather than primitive type\n",
    "- annotate with `#[must_use]` to prevent not using a returned value\n",
    "- use `PanthomData` (erased at compile time) to prevent representing illegal states:"
   ]
  },
  {
   "cell_type": "code",
   "execution_count": 10,
   "metadata": {},
   "outputs": [
    {
     "name": "stdout",
     "output_type": "stream",
     "text": [
      "this is not a file\n"
     ]
    }
   ],
   "source": [
    "use std::marker::PhantomData;\n",
    "\n",
    "struct Init;\n",
    "struct Opened;\n",
    "\n",
    "struct File<Status = Init> {\n",
    " stage: PhantomData<Status>,\n",
    "}\n",
    "\n",
    "impl Default for File<Init> {\n",
    "    fn default() -> Self { File { stage: PhantomData } }\n",
    "}\n",
    "\n",
    "impl File<Init> {\n",
    "    pub fn open(self) -> File<Opened> { \n",
    "        File { stage: PhantomData }\n",
    "    }\n",
    "}\n",
    "\n",
    "impl File<Opened> {\n",
    "    pub fn read(self) -> String { \"this is not a file\".to_owned() }\n",
    "}\n",
    "\n",
    "let file = File::default();\n",
    "\n",
    "// won't compile\n",
    "// print!(\"{}\", file.read());\n",
    "\n",
    "let opened_filed = file.open();\n",
    "println!(\"{}\", opened_filed.read());"
   ]
  },
  {
   "cell_type": "markdown",
   "metadata": {},
   "source": [
    "## Constrained\n",
    "- backward incompatible changes may be not obvious\n",
    "### Type Modifications\n",
    "- keep most types private to allow future changes\n",
    "- adding a field to a struct will break constructors and pattern matching\n",
    "- the `#[non_exhaustive]` force downstream crates to always match the `_` pattern\n",
    "### Trait Implementations\n",
    "- adding a new trait implementation may break compatibility, if contains an method also belonging to another trait\n",
    "- _sealed traits_ can only be implemented within the crate that defines them. It is a pattern implemented by adding a private trait as a supertrait of the sealed trait"
   ]
  },
  {
   "cell_type": "code",
   "execution_count": 11,
   "metadata": {},
   "outputs": [],
   "source": [
    "mod lib_mod {\n",
    "    pub trait MyTrait: private::Sealed {}\n",
    "    \n",
    "    impl MyTrait for u8 {}\n",
    "    \n",
    "    mod private {\n",
    "        pub trait Sealed {}\n",
    "        impl Sealed for u8 {}\n",
    "    }\n",
    "}\n",
    "\n",
    "mod client_mod {\n",
    "    struct T;\n",
    "    \n",
    "    // won't compile\n",
    "    // impl crate::lib_mod::MyTrait for T {}\n",
    "}"
   ]
  },
  {
   "cell_type": "markdown",
   "metadata": {},
   "source": [
    "### Hidden Contracts\n",
    "- _re-exports_ make foreign crates part of the interface contract (and, thus, propagates the changes)\n",
    "- moreover, in Rust, type with the same name from two major versions of the same crate are considered different types\n",
    "- To mitigate the issue, wrap foreign types using the newtype pattern\n",
    "- _auto-traits_ are part of the interface and are automatically added according to conditions that may change"
   ]
  },
  {
   "cell_type": "markdown",
   "metadata": {},
   "source": []
  }
 ],
 "metadata": {
  "kernelspec": {
   "display_name": "Rust",
   "language": "rust",
   "name": "rust"
  },
  "language_info": {
   "codemirror_mode": "rust",
   "file_extension": ".rs",
   "mimetype": "text/rust",
   "name": "Rust",
   "pygment_lexer": "rust",
   "version": ""
  }
 },
 "nbformat": 4,
 "nbformat_minor": 2
}
