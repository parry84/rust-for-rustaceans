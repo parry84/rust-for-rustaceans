{
 "cells": [
  {
   "cell_type": "markdown",
   "metadata": {},
   "source": [
    "# Chapter 2, Types\n",
    "Provides a more exhaustive explanation of types and traits in Rust, including how the compiler reasons about them, their features and restrictions, and a number of advanced applications.\n",
    "\n",
    "## Types in memory\n",
    "- Types are used to interpret bits of memory.\n",
    "- Details about memory layout affect both correctness and performance (i.e.: _misaligned accesses_)\n",
    "- Due to hardware costraints all values must be at least byte-aligned"
   ]
  },
  {
   "cell_type": "code",
   "execution_count": 29,
   "metadata": {
    "vscode": {
     "languageId": "rust"
    }
   },
   "outputs": [
    {
     "name": "stdout",
     "output_type": "stream",
     "text": [
      "u8         1         \n",
      "u16        2         \n",
      "u32        4         \n",
      "u64        8         \n",
      "u128       8         \n",
      "ctx::Foo   8         \n"
     ]
    }
   ],
   "source": [
    "println!(\"{0: <10} {1: <10}\", std::any::type_name::<u8>(), std::mem::align_of::<u8>());\n",
    "println!(\"{0: <10} {1: <10}\", std::any::type_name::<u16>(), std::mem::align_of::<u16>());\n",
    "println!(\"{0: <10} {1: <10}\", std::any::type_name::<u32>(), std::mem::align_of::<u32>());\n",
    "println!(\"{0: <10} {1: <10}\", std::any::type_name::<u64>(), std::mem::align_of::<u64>());\n",
    "println!(\"{0: <10} {1: <10}\", std::any::type_name::<u128>(), std::mem::align_of::<u128>());\n",
    "\n",
    "struct Foo {\n",
    "    f1: u8,\n",
    "    f2: u64,\n",
    "}\n",
    "println!(\"{0: <10} {1: <10}\", std::any::type_name::<Foo>(), std::mem::align_of::<Foo>());"
   ]
  },
  {
   "cell_type": "markdown",
   "metadata": {},
   "source": [
    "Note: the order of the fields in a struct influeces the final size in memory (due to padding)\n",
    "It is possible to force a particular memory layout:\n",
    "- `#[repr(Rust)]`: default one. The compiler is free to reorder fields in order to optimize\n",
    "- `#[repr(C)]`: force C memory layout. The fields order is preserved.\n",
    "- `#[repr(transparent)]`: force a struct containing only 1 non-zero sized type to be laid out identically to the inner type\n",
    "- `#[repr(packed)]`: no padding between struct fields\n",
    "- `#[repr(align(n))]`: force a larger alignement than required\n",
    "Rust still doesn't have a stable ABI. So, it is currently suggested to specify `#[repr(C)]` to cross the binary boundaries.\n",
    "\n",
    "Not all types have a size known at compile time (e.g.: `str`, `[i32]`, `&dyn`). Everywhere a known size is required there is an implicit `Sized` trait bound (with an opt-out policiy). _Fat pointers_ allow to referenced unsized types: they contains the runtime size along with the memory location.\n",
    "## Traits and Trait Bounds\n",
    "- _monomorphization_: the compiler replaces generic types and functions with concrete instances for each type T (only code actually used)\n",
    "- _static dispatch_: every call of a generic function is implemented with a jump the instance for the current concrete type\n",
    "- _dynamic dispatch_: allow to call a trait method on a generic type when the concrete type is known only at runtime. Implemented with a _vtable_. Requires the `dyn` keyword (add a performance overhead)\n",
    "- _trait object_: a type that implements a trait + its vtable. Stored as two pointers (one to the data struct, one to the vtable)\n",
    "- only _object-safe_ traits can be turned into a trait object. A trait is object-safe when no generic method uses `Self`\n",
    "### Generic traits\n",
    "- Associated types should be preferred to generic traits but only allow one implementation per type\n",
    "\n",
    "Example:"
   ]
  },
  {
   "cell_type": "code",
   "execution_count": 12,
   "metadata": {
    "vscode": {
     "languageId": "rust"
    }
   },
   "outputs": [],
   "source": [
    "struct Type {}\n",
    "\n",
    "trait Foo {\n",
    "    type AssociatedType;\n",
    "}\n",
    "\n",
    "impl Foo for Type {\n",
    "    type AssociatedType = i32;\n",
    "}\n",
    "\n",
    "// Will not compile\n",
    "/*impl Foo for Type {\n",
    "    type Bar = String;\n",
    "}*/\n",
    "\n",
    "trait GenericFoo<T> {\n",
    "\n",
    "}\n",
    "\n",
    "impl GenericFoo<i32> for Type {}\n",
    "impl GenericFoo<String> for Type {}"
   ]
  },
  {
   "cell_type": "markdown",
   "metadata": {},
   "source": [
    "### Coherence and the Orphan Rule\n",
    "- _coherence_: the property that there is at most one implementation of a trait for any given type.\n",
    "- Rust enforces coherence by simply refusing to compile programs that contain conflicting implementations.\n",
    "- prevent \"dependency hell\" problems where multiple crates contain conflicting `impl`\n",
    "- the orphan rule says that you can implement a trait for a type only if the trait **or** the type is local to your crate\n",
    "- there are exceptions to the Orphan Rule\n",
    "### Trait bounds\n",
    "- `#[derive(Trait)]` usually desugar into `impl Trait for Foo<T> where T: Trait`\n",
    "### Marker traits\n",
    "- traits with empty bodies which allow to capture semantic requirements.\n",
    "- often are also _auto-traits_: the compiler automatically implements them\n",
    "- _marker types_: unit types that help to prevent API misuses\n",
    "## Existential types\n",
    "- `async fn` functions or when return type is `impl Trait have an existential return type: the caller can not know the actual returned type\n",
    "- allow you to perform zero-cost type erasure\n",
    "\n",
    "Example:"
   ]
  },
  {
   "cell_type": "code",
   "execution_count": 13,
   "metadata": {
    "vscode": {
     "languageId": "rust"
    }
   },
   "outputs": [
    {
     "name": "stdout",
     "output_type": "stream",
     "text": [
      "\"this is not a file\"\n"
     ]
    },
    {
     "data": {
      "text/plain": [
       "()"
      ]
     },
     "execution_count": 13,
     "metadata": {},
     "output_type": "execute_result"
    }
   ],
   "source": [
    "pub trait File {\n",
    "    fn content(&self) -> String;\n",
    "}\n",
    "  \n",
    "impl File for String {\n",
    "    fn content(&self) -> String {\n",
    "        self.clone()\n",
    "    }\n",
    "}\n",
    "  \n",
    "fn open() -> impl File {\n",
    "    \"this is not a file\".to_string()\n",
    "}\n",
    "\n",
    "fn read(file: impl File) -> () {\n",
    "    println!(\"{:?}\", file.content());\n",
    "}\n",
    "  \n",
    "{\n",
    "  let file = open();\n",
    "  read(file);\n",
    "}"
   ]
  }
 ],
 "metadata": {
  "kernelspec": {
   "display_name": "Rust",
   "language": "rust",
   "name": "rust"
  },
  "language_info": {
   "codemirror_mode": "rust",
   "file_extension": ".rs",
   "mimetype": "text/rust",
   "name": "Rust",
   "pygment_lexer": "rust",
   "version": ""
  },
  "orig_nbformat": 4
 },
 "nbformat": 4,
 "nbformat_minor": 2
}
